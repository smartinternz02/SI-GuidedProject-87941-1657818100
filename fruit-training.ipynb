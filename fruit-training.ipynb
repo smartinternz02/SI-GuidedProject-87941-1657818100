{
 "cells": [
  {
   "cell_type": "markdown",
   "id": "65f7b83a",
   "metadata": {},
   "source": [
    "# Preprocess the Images"
   ]
  },
  {
   "cell_type": "code",
   "execution_count": 1,
   "id": "9512dfee",
   "metadata": {},
   "outputs": [],
   "source": [
    "# Required library for image data augmentation:\n",
    "from keras.preprocessing.image import ImageDataGenerator"
   ]
  },
  {
   "cell_type": "code",
   "execution_count": 2,
   "id": "626cf1aa",
   "metadata": {},
   "outputs": [],
   "source": [
    "# Creation of Instance of the ImageDataGenerator class for train and test:\n",
    "train_imagen = ImageDataGenerator(rescale = 1.0/255, \n",
    "                                  shear_range = 0.2,\n",
    "#                                   rotation_range = 10, fill_mode='nearest',\n",
    "#                                   width_shift_range=0.2, height_shift_range=0.2,\n",
    "                                  horizontal_flip= True, vertical_flip=False,\n",
    "                                  brightness_range=[0.8,1.2],\n",
    "                                  zoom_range= 0.2)\n",
    "# train_imagen = ImageDataGenerator(rescale = 1.0/255, shear_range = 0.1, zoom_range= 0.2,horizontal_flip= True)\n",
    "test_imagen = ImageDataGenerator(rescale = 1.0/255)"
   ]
  },
  {
   "cell_type": "code",
   "execution_count": 3,
   "id": "9cff4ca3",
   "metadata": {},
   "outputs": [
    {
     "name": "stdout",
     "output_type": "stream",
     "text": [
      "Found 5384 images belonging to 6 classes.\n",
      "Found 1686 images belonging to 6 classes.\n",
      "Categories with lebel =  {'Apple___Black_rot': 0, 'Apple___healthy': 1, 'Corn_(maize)___Northern_Leaf_Blight': 2, 'Corn_(maize)___healthy': 3, 'Peach___Bacterial_spot': 4, 'Peach___healthy': 5}\n",
      "Length of Train Data =  169 ,Length of Test Data =  53\n"
     ]
    }
   ],
   "source": [
    "# Import Data\n",
    "train_path = r\"C:\\Users\\ASUS\\Documents\\python\\IBM_Project\\Dataset Plant Disease\\fruit-dataset\\fruit-dataset\\train\"  \n",
    "test_path = r\"C:\\Users\\ASUS\\Documents\\python\\IBM_Project\\Dataset Plant Disease\\fruit-dataset\\fruit-dataset\\test\"\n",
    "\n",
    "x_train = train_imagen.flow_from_directory(train_path, target_size= (128,128), class_mode= \"categorical\", batch_size= 32)  \n",
    "x_test = test_imagen.flow_from_directory(test_path, target_size= (128,128), class_mode= \"categorical\", batch_size= 32)\n",
    "print(\"Categories with lebel = \", x_train.class_indices)\n",
    "print(\"Length of Train Data = \", len(x_train), \",\" \"Length of Test Data = \", len(x_test))"
   ]
  },
  {
   "cell_type": "markdown",
   "id": "e8cc4230",
   "metadata": {},
   "source": [
    "# Model Building for Fruit Disease Prediction"
   ]
  },
  {
   "cell_type": "code",
   "execution_count": 4,
   "id": "d0bb1cdb",
   "metadata": {},
   "outputs": [],
   "source": [
    "# Import Libraries for Model Training:\n",
    "# Import the libraries that are required to initialize the neural network layer, \n",
    "# and create and add different layers to the neural network model.\n",
    "from keras.models import Sequential\n",
    "from keras.layers import Convolution2D, MaxPool2D, Flatten\n",
    "from keras.layers import Dense"
   ]
  },
  {
   "cell_type": "code",
   "execution_count": 5,
   "id": "848f9424",
   "metadata": {},
   "outputs": [
    {
     "name": "stdout",
     "output_type": "stream",
     "text": [
      "Model: \"sequential\"\n",
      "_________________________________________________________________\n",
      " Layer (type)                Output Shape              Param #   \n",
      "=================================================================\n",
      " conv2d (Conv2D)             (None, 128, 128, 16)      448       \n",
      "                                                                 \n",
      " max_pooling2d (MaxPooling2D  (None, 64, 64, 16)       0         \n",
      " )                                                               \n",
      "                                                                 \n",
      " conv2d_1 (Conv2D)           (None, 62, 62, 32)        4640      \n",
      "                                                                 \n",
      " max_pooling2d_1 (MaxPooling  (None, 31, 31, 32)       0         \n",
      " 2D)                                                             \n",
      "                                                                 \n",
      " conv2d_2 (Conv2D)           (None, 29, 29, 64)        18496     \n",
      "                                                                 \n",
      " max_pooling2d_2 (MaxPooling  (None, 14, 14, 64)       0         \n",
      " 2D)                                                             \n",
      "                                                                 \n",
      " flatten (Flatten)           (None, 12544)             0         \n",
      "                                                                 \n",
      "=================================================================\n",
      "Total params: 23,584\n",
      "Trainable params: 23,584\n",
      "Non-trainable params: 0\n",
      "_________________________________________________________________\n"
     ]
    }
   ],
   "source": [
    "# Model Construction:\n",
    "model = Sequential()\n",
    "\n",
    "model.add(Convolution2D(16, (3,3), input_shape = (128,128,3), activation='relu', padding='same'))\n",
    "model.add(MaxPool2D(pool_size= (2,2)))\n",
    "model.add(Convolution2D(32, (3,3), input_shape = (128,128,3), activation='relu'))\n",
    "model.add(MaxPool2D(pool_size= (2,2)))\n",
    "model.add(Convolution2D(64, (3,3), input_shape = (128,128,3), activation='relu'))\n",
    "model.add(MaxPool2D(pool_size= (2,2)))\n",
    "model.add(Flatten())\n",
    "\n",
    "model.summary()"
   ]
  },
  {
   "cell_type": "code",
   "execution_count": 6,
   "id": "70acc1e3",
   "metadata": {},
   "outputs": [],
   "source": [
    "# Add Dense Layers in Model:\n",
    "model.add(Dense(units=40,  kernel_initializer = \"uniform\", activation= \"relu\"))           # 1st Hidden Layer\n",
    "model.add(Dense(units=20, kernel_initializer = \"random_uniform\", activation= \"relu\"))     # 2nd Hidden Layer\n",
    "model.add(Dense(units=6, kernel_initializer = \"random_uniform\", activation= \"softmax\"))   # Output Layer"
   ]
  },
  {
   "cell_type": "code",
   "execution_count": 7,
   "id": "1f6a2d7f",
   "metadata": {},
   "outputs": [],
   "source": [
    "# Creating Checkpoint:\n",
    "from keras.callbacks import ModelCheckpoint\n",
    "\n",
    "checkpoint_filepath = r\"C:\\Users\\ASUS\\Documents\\python\\IBM_Project\\checkpoints\"\n",
    "\n",
    "model_checkpoint_callback = ModelCheckpoint(\n",
    "    filepath=checkpoint_filepath,\n",
    "    save_weights_only=True,\n",
    "    monitor='val_loss',\n",
    "    mode='min',\n",
    "    save_best_only=True,\n",
    "    verbose =1)"
   ]
  },
  {
   "cell_type": "code",
   "execution_count": 8,
   "id": "4baf9091",
   "metadata": {},
   "outputs": [
    {
     "name": "stdout",
     "output_type": "stream",
     "text": [
      "Epoch 1/30\n",
      "168/168 [==============================] - ETA: 0s - loss: 1.3521 - accuracy: 0.4695\n",
      "Epoch 1: val_loss improved from inf to 0.83816, saving model to C:\\Users\\ASUS\\Documents\\python\\IBM_Project\\checkpoints\n",
      "168/168 [==============================] - 36s 210ms/step - loss: 1.3521 - accuracy: 0.4695 - val_loss: 0.8382 - val_accuracy: 0.6881\n",
      "Epoch 2/30\n",
      "168/168 [==============================] - ETA: 0s - loss: 0.5640 - accuracy: 0.7973\n",
      "Epoch 2: val_loss improved from 0.83816 to 0.32628, saving model to C:\\Users\\ASUS\\Documents\\python\\IBM_Project\\checkpoints\n",
      "168/168 [==============================] - 34s 205ms/step - loss: 0.5640 - accuracy: 0.7973 - val_loss: 0.3263 - val_accuracy: 0.9062\n",
      "Epoch 3/30\n",
      "168/168 [==============================] - ETA: 0s - loss: 0.3537 - accuracy: 0.8782\n",
      "Epoch 3: val_loss improved from 0.32628 to 0.30763, saving model to C:\\Users\\ASUS\\Documents\\python\\IBM_Project\\checkpoints\n",
      "168/168 [==============================] - 34s 200ms/step - loss: 0.3537 - accuracy: 0.8782 - val_loss: 0.3076 - val_accuracy: 0.8924\n",
      "Epoch 4/30\n",
      "168/168 [==============================] - ETA: 0s - loss: 0.2729 - accuracy: 0.9081\n",
      "Epoch 4: val_loss improved from 0.30763 to 0.25426, saving model to C:\\Users\\ASUS\\Documents\\python\\IBM_Project\\checkpoints\n",
      "168/168 [==============================] - 36s 212ms/step - loss: 0.2729 - accuracy: 0.9081 - val_loss: 0.2543 - val_accuracy: 0.9141\n",
      "Epoch 5/30\n",
      "168/168 [==============================] - ETA: 0s - loss: 0.2407 - accuracy: 0.9174\n",
      "Epoch 5: val_loss improved from 0.25426 to 0.24317, saving model to C:\\Users\\ASUS\\Documents\\python\\IBM_Project\\checkpoints\n",
      "168/168 [==============================] - 36s 216ms/step - loss: 0.2407 - accuracy: 0.9174 - val_loss: 0.2432 - val_accuracy: 0.9123\n",
      "Epoch 6/30\n",
      "168/168 [==============================] - ETA: 0s - loss: 0.2144 - accuracy: 0.9253\n",
      "Epoch 6: val_loss improved from 0.24317 to 0.18832, saving model to C:\\Users\\ASUS\\Documents\\python\\IBM_Project\\checkpoints\n",
      "168/168 [==============================] - 35s 208ms/step - loss: 0.2144 - accuracy: 0.9253 - val_loss: 0.1883 - val_accuracy: 0.9315\n",
      "Epoch 7/30\n",
      "168/168 [==============================] - ETA: 0s - loss: 0.1965 - accuracy: 0.9331\n",
      "Epoch 7: val_loss improved from 0.18832 to 0.15715, saving model to C:\\Users\\ASUS\\Documents\\python\\IBM_Project\\checkpoints\n",
      "168/168 [==============================] - 35s 210ms/step - loss: 0.1965 - accuracy: 0.9331 - val_loss: 0.1571 - val_accuracy: 0.9483\n",
      "Epoch 8/30\n",
      "168/168 [==============================] - ETA: 0s - loss: 0.1910 - accuracy: 0.9361\n",
      "Epoch 8: val_loss did not improve from 0.15715\n",
      "168/168 [==============================] - 35s 210ms/step - loss: 0.1910 - accuracy: 0.9361 - val_loss: 0.2503 - val_accuracy: 0.9050\n",
      "Epoch 9/30\n",
      "168/168 [==============================] - ETA: 0s - loss: 0.1698 - accuracy: 0.9417\n",
      "Epoch 9: val_loss improved from 0.15715 to 0.15543, saving model to C:\\Users\\ASUS\\Documents\\python\\IBM_Project\\checkpoints\n",
      "168/168 [==============================] - 36s 211ms/step - loss: 0.1698 - accuracy: 0.9417 - val_loss: 0.1554 - val_accuracy: 0.9447\n",
      "Epoch 10/30\n",
      "168/168 [==============================] - ETA: 0s - loss: 0.1715 - accuracy: 0.9413\n",
      "Epoch 10: val_loss improved from 0.15543 to 0.13226, saving model to C:\\Users\\ASUS\\Documents\\python\\IBM_Project\\checkpoints\n",
      "168/168 [==============================] - 36s 215ms/step - loss: 0.1715 - accuracy: 0.9413 - val_loss: 0.1323 - val_accuracy: 0.9561\n",
      "Epoch 11/30\n",
      "168/168 [==============================] - ETA: 0s - loss: 0.1444 - accuracy: 0.9518\n",
      "Epoch 11: val_loss did not improve from 0.13226\n",
      "168/168 [==============================] - 35s 210ms/step - loss: 0.1444 - accuracy: 0.9518 - val_loss: 0.1428 - val_accuracy: 0.9513\n",
      "Epoch 12/30\n",
      "168/168 [==============================] - ETA: 0s - loss: 0.1373 - accuracy: 0.9497\n",
      "Epoch 12: val_loss improved from 0.13226 to 0.10660, saving model to C:\\Users\\ASUS\\Documents\\python\\IBM_Project\\checkpoints\n",
      "168/168 [==============================] - 35s 210ms/step - loss: 0.1373 - accuracy: 0.9497 - val_loss: 0.1066 - val_accuracy: 0.9633\n",
      "Epoch 13/30\n",
      "168/168 [==============================] - ETA: 0s - loss: 0.1228 - accuracy: 0.9580\n",
      "Epoch 13: val_loss did not improve from 0.10660\n",
      "168/168 [==============================] - 36s 217ms/step - loss: 0.1228 - accuracy: 0.9580 - val_loss: 0.1317 - val_accuracy: 0.9603\n",
      "Epoch 14/30\n",
      "168/168 [==============================] - ETA: 0s - loss: 0.1301 - accuracy: 0.9568\n",
      "Epoch 14: val_loss improved from 0.10660 to 0.09721, saving model to C:\\Users\\ASUS\\Documents\\python\\IBM_Project\\checkpoints\n",
      "168/168 [==============================] - 35s 210ms/step - loss: 0.1301 - accuracy: 0.9568 - val_loss: 0.0972 - val_accuracy: 0.9700\n",
      "Epoch 15/30\n",
      "168/168 [==============================] - ETA: 0s - loss: 0.1616 - accuracy: 0.9486\n",
      "Epoch 15: val_loss did not improve from 0.09721\n",
      "168/168 [==============================] - 36s 214ms/step - loss: 0.1616 - accuracy: 0.9486 - val_loss: 0.1108 - val_accuracy: 0.9609\n",
      "Epoch 16/30\n",
      "168/168 [==============================] - ETA: 0s - loss: 0.1114 - accuracy: 0.9598\n",
      "Epoch 16: val_loss did not improve from 0.09721\n",
      "168/168 [==============================] - 36s 211ms/step - loss: 0.1114 - accuracy: 0.9598 - val_loss: 0.1105 - val_accuracy: 0.9627\n",
      "Epoch 17/30\n",
      "168/168 [==============================] - ETA: 0s - loss: 0.1037 - accuracy: 0.9636\n",
      "Epoch 17: val_loss improved from 0.09721 to 0.08983, saving model to C:\\Users\\ASUS\\Documents\\python\\IBM_Project\\checkpoints\n",
      "168/168 [==============================] - 36s 214ms/step - loss: 0.1037 - accuracy: 0.9636 - val_loss: 0.0898 - val_accuracy: 0.9724\n",
      "Epoch 18/30\n",
      "168/168 [==============================] - ETA: 0s - loss: 0.1067 - accuracy: 0.9628\n",
      "Epoch 18: val_loss did not improve from 0.08983\n",
      "168/168 [==============================] - 37s 219ms/step - loss: 0.1067 - accuracy: 0.9628 - val_loss: 0.0945 - val_accuracy: 0.9730\n",
      "Epoch 19/30\n",
      "168/168 [==============================] - ETA: 0s - loss: 0.1025 - accuracy: 0.9651\n",
      "Epoch 19: val_loss did not improve from 0.08983\n",
      "168/168 [==============================] - 36s 215ms/step - loss: 0.1025 - accuracy: 0.9651 - val_loss: 0.1606 - val_accuracy: 0.9501\n",
      "Epoch 20/30\n",
      "168/168 [==============================] - ETA: 0s - loss: 0.0957 - accuracy: 0.9680\n",
      "Epoch 20: val_loss improved from 0.08983 to 0.07598, saving model to C:\\Users\\ASUS\\Documents\\python\\IBM_Project\\checkpoints\n",
      "168/168 [==============================] - 36s 211ms/step - loss: 0.0957 - accuracy: 0.9680 - val_loss: 0.0760 - val_accuracy: 0.9742\n",
      "Epoch 21/30\n",
      "168/168 [==============================] - ETA: 0s - loss: 0.0807 - accuracy: 0.9709\n",
      "Epoch 21: val_loss did not improve from 0.07598\n",
      "168/168 [==============================] - 36s 213ms/step - loss: 0.0807 - accuracy: 0.9709 - val_loss: 0.1029 - val_accuracy: 0.9675\n",
      "Epoch 22/30\n",
      "168/168 [==============================] - ETA: 0s - loss: 0.0711 - accuracy: 0.9751\n",
      "Epoch 22: val_loss did not improve from 0.07598\n",
      "168/168 [==============================] - 36s 213ms/step - loss: 0.0711 - accuracy: 0.9751 - val_loss: 0.1157 - val_accuracy: 0.9603\n",
      "Epoch 23/30\n",
      "168/168 [==============================] - ETA: 0s - loss: 0.0722 - accuracy: 0.9751\n",
      "Epoch 23: val_loss did not improve from 0.07598\n",
      "168/168 [==============================] - 36s 212ms/step - loss: 0.0722 - accuracy: 0.9751 - val_loss: 0.2413 - val_accuracy: 0.9219\n",
      "Epoch 24/30\n",
      "168/168 [==============================] - ETA: 0s - loss: 0.0803 - accuracy: 0.9716\n",
      "Epoch 24: val_loss did not improve from 0.07598\n",
      "168/168 [==============================] - 36s 213ms/step - loss: 0.0803 - accuracy: 0.9716 - val_loss: 0.1311 - val_accuracy: 0.9561\n",
      "Epoch 25/30\n",
      "168/168 [==============================] - ETA: 0s - loss: 0.0838 - accuracy: 0.9714\n",
      "Epoch 25: val_loss did not improve from 0.07598\n",
      "168/168 [==============================] - 36s 211ms/step - loss: 0.0838 - accuracy: 0.9714 - val_loss: 0.1028 - val_accuracy: 0.9700\n",
      "Epoch 26/30\n",
      "168/168 [==============================] - ETA: 0s - loss: 0.0681 - accuracy: 0.9763\n",
      "Epoch 26: val_loss improved from 0.07598 to 0.06067, saving model to C:\\Users\\ASUS\\Documents\\python\\IBM_Project\\checkpoints\n",
      "168/168 [==============================] - 36s 212ms/step - loss: 0.0681 - accuracy: 0.9763 - val_loss: 0.0607 - val_accuracy: 0.9790\n"
     ]
    },
    {
     "name": "stdout",
     "output_type": "stream",
     "text": [
      "Epoch 27/30\n",
      "168/168 [==============================] - ETA: 0s - loss: 0.0751 - accuracy: 0.9738\n",
      "Epoch 27: val_loss did not improve from 0.06067\n",
      "168/168 [==============================] - 36s 214ms/step - loss: 0.0751 - accuracy: 0.9738 - val_loss: 0.1268 - val_accuracy: 0.9639\n",
      "Epoch 28/30\n",
      "168/168 [==============================] - ETA: 0s - loss: 0.0482 - accuracy: 0.9817\n",
      "Epoch 28: val_loss did not improve from 0.06067\n",
      "168/168 [==============================] - 35s 211ms/step - loss: 0.0482 - accuracy: 0.9817 - val_loss: 0.0730 - val_accuracy: 0.9760\n",
      "Epoch 29/30\n",
      "168/168 [==============================] - ETA: 0s - loss: 0.0577 - accuracy: 0.9804\n",
      "Epoch 29: val_loss did not improve from 0.06067\n",
      "168/168 [==============================] - 36s 212ms/step - loss: 0.0577 - accuracy: 0.9804 - val_loss: 0.0832 - val_accuracy: 0.9730\n",
      "Epoch 30/30\n",
      "168/168 [==============================] - ETA: 0s - loss: 0.0663 - accuracy: 0.9776\n",
      "Epoch 30: val_loss did not improve from 0.06067\n",
      "168/168 [==============================] - 35s 211ms/step - loss: 0.0663 - accuracy: 0.9776 - val_loss: 0.0735 - val_accuracy: 0.9730\n"
     ]
    }
   ],
   "source": [
    "# Model Compilation & Training:\n",
    "model.compile(optimizer= \"adam\", loss= \"categorical_crossentropy\", metrics= ['accuracy'])\n",
    "\n",
    "history = model.fit(x_train, steps_per_epoch= len(x_train)-1, \n",
    "                    validation_data= x_test, validation_steps= len(x_test)-1, \n",
    "                    callbacks=[model_checkpoint_callback], epochs = 30);"
   ]
  },
  {
   "cell_type": "code",
   "execution_count": 10,
   "id": "646a7285",
   "metadata": {},
   "outputs": [
    {
     "data": {
      "text/plain": [
       "<tensorflow.python.training.tracking.util.CheckpointLoadStatus at 0x274a5c8faf0>"
      ]
     },
     "execution_count": 10,
     "metadata": {},
     "output_type": "execute_result"
    }
   ],
   "source": [
    "# The model weights (that are considered the best) are loaded into the model.\n",
    "model.load_weights(checkpoint_filepath)"
   ]
  },
  {
   "cell_type": "code",
   "execution_count": 11,
   "id": "2c29b09a",
   "metadata": {},
   "outputs": [],
   "source": [
    "# Saving Model\n",
    "model.save(\"fruit.h5\")"
   ]
  },
  {
   "cell_type": "code",
   "execution_count": 9,
   "id": "3a84797f",
   "metadata": {},
   "outputs": [
    {
     "data": {
      "text/plain": [
       "[<matplotlib.lines.Line2D at 0x274a5bf2b50>,\n",
       " <matplotlib.lines.Line2D at 0x274a5bf2b80>]"
      ]
     },
     "execution_count": 9,
     "metadata": {},
     "output_type": "execute_result"
    },
    {
     "data": {
      "image/png": "[encoded data removed]",
      "text/plain": [
       "<Figure size 432x288 with 1 Axes>"
      ]
     },
     "metadata": {
      "needs_background": "light"
     },
     "output_type": "display_data"
    }
   ],
   "source": [
    "# Visualization of Training and Validation Losses\n",
    "import matplotlib.pyplot as plt\n",
    "train_loss = history.history[\"loss\"]\n",
    "val_loss = history.history[\"val_loss\"]\n",
    "train_acc = history.history[\"val_accuracy\"]\n",
    "val_acc = history.history[\"val_accuracy\"]\n",
    "plt.plot(range(30), train_loss, 'k', range(30), val_loss, 'b')\n",
    "#plt.plot(range(30), train_acc, range(30), val_acc)"
   ]
  },
  {
   "cell_type": "markdown",
   "id": "e6b8dc50",
   "metadata": {},
   "source": [
    "# Testing of Model:"
   ]
  },
  {
   "cell_type": "code",
   "execution_count": 12,
   "id": "9b89e252",
   "metadata": {},
   "outputs": [],
   "source": [
    "# Import Libraries for Model Testing:\n",
    "from keras.models import load_model\n",
    "from keras.preprocessing.image import image_utils\n",
    "import numpy as np"
   ]
  },
  {
   "cell_type": "code",
   "execution_count": 13,
   "id": "1318ab0c",
   "metadata": {},
   "outputs": [],
   "source": [
    "# Load Model:\n",
    "model = load_model(\"fruit.h5\")"
   ]
  },
  {
   "cell_type": "code",
   "execution_count": 14,
   "id": "61dce115",
   "metadata": {},
   "outputs": [],
   "source": [
    "# Test Image Path:\n",
    "testimg_folder_basic = r\"C:\\Users\\ASUS\\Documents\\python\\IBM_Project\\Dataset Plant Disease\\fruit-dataset\\fruit-dataset\\test\"\n",
    "\n",
    "testimg_folder_sub = \"\\Corn_(maize)___Northern_Leaf_Blight\"     \n",
    "testimg = \"\\\\8c674c27-dcc1-4ce3-a3e7-669f9dd3521b___RS_NLB 3867.jpg\"\n",
    "\n",
    "testimg_path = testimg_folder_basic + testimg_folder_sub  + testimg\n",
    "\n",
    "# Categories:\n",
    "categories =  ['Apple: Black Rots', 'Apple: Healthy', \n",
    "               'Corn: Northern Leaf Blight','Corn: Healthy', \n",
    "               'Peach: Bacterial Spots', 'Peach: Healthy']"
   ]
  },
  {
   "cell_type": "code",
   "execution_count": 15,
   "id": "35918fa4",
   "metadata": {},
   "outputs": [],
   "source": [
    "# Load Test Image:\n",
    "test_img = image_utils.load_img(testimg_path ,target_size = (128,128))\n",
    "\n",
    "# Convert image to array:\n",
    "test_img = image_utils.img_to_array(test_img)\n",
    "\n",
    "# Expand Dimention \n",
    "test_img = np.expand_dims(test_img, axis = 0)\n"
   ]
  },
  {
   "cell_type": "code",
   "execution_count": 16,
   "id": "096c724f",
   "metadata": {},
   "outputs": [
    {
     "name": "stdout",
     "output_type": "stream",
     "text": [
      "1/1 [==============================] - 0s 77ms/step\n",
      "\n",
      "Image category =  Corn: Northern Leaf Blight\n"
     ]
    }
   ],
   "source": [
    "# Final Prediction:\n",
    "prediction = model.predict(test_img)\n",
    "\n",
    "print(\"\")\n",
    "print(\"Image category = \", categories[np.argmax(prediction)])"
   ]
  },
  {
   "cell_type": "code",
   "execution_count": null,
   "id": "87cc8552",
   "metadata": {},
   "outputs": [],
   "source": []
  }
 ],
 "metadata": {
  "kernelspec": {
   "display_name": "Python 3 (ipykernel)",
   "language": "python",
   "name": "python3"
  },
  "language_info": {
   "codemirror_mode": {
    "name": "ipython",
    "version": 3
   },
   "file_extension": ".py",
   "mimetype": "text/x-python",
   "name": "python",
   "nbconvert_exporter": "python",
   "pygments_lexer": "ipython3",
   "version": "3.9.12"
  }
 },
 "nbformat": 4,
 "nbformat_minor": 5
}

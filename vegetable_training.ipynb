{
 "cells": [
  {
   "cell_type": "markdown",
   "id": "7513666d",
   "metadata": {},
   "source": [
    "# Preprocess the Images for Vegetable Training"
   ]
  },
  {
   "cell_type": "code",
   "execution_count": 1,
   "id": "f1d366b7",
   "metadata": {},
   "outputs": [],
   "source": [
    "# Required library for image data augmentation:\n",
    "from keras.preprocessing.image import ImageDataGenerator"
   ]
  },
  {
   "cell_type": "code",
   "execution_count": 2,
   "id": "2dee32a7",
   "metadata": {},
   "outputs": [],
   "source": [
    "# Creation of Instance of the ImageDataGenerator class for train and test:\n",
    "train_imagen = ImageDataGenerator(rescale = 1.0/255, \n",
    "                                  shear_range = 0.2,\n",
    "                                  rotation_range = 10, fill_mode='nearest',\n",
    "                                  width_shift_range=0.2, height_shift_range=0.2,\n",
    "                                  horizontal_flip= True, vertical_flip=False,\n",
    "                                  brightness_range=[0.8,1.2],\n",
    "                                  zoom_range= 0.2)\n",
    "test_imagen = ImageDataGenerator(rescale = 1.0/255)"
   ]
  },
  {
   "cell_type": "code",
   "execution_count": 3,
   "id": "0f5fc833",
   "metadata": {},
   "outputs": [
    {
     "name": "stdout",
     "output_type": "stream",
     "text": [
      "Found 11386 images belonging to 9 classes.\n",
      "Found 3416 images belonging to 9 classes.\n",
      "Categories with lebel =  {'Pepper,_bell___Bacterial_spot': 0, 'Pepper,_bell___healthy': 1, 'Potato___Early_blight': 2, 'Potato___Late_blight': 3, 'Potato___healthy': 4, 'Tomato___Bacterial_spot': 5, 'Tomato___Late_blight': 6, 'Tomato___Leaf_Mold': 7, 'Tomato___Septoria_leaf_spot': 8}\n",
      "Length of Train Data =  356 ,Length of Test Data =  107\n"
     ]
    }
   ],
   "source": [
    "# Import Data\n",
    "train_path = r\"C:\\Users\\ASUS\\Documents\\python\\IBM_Project\\Dataset Plant Disease\\Veg-dataset\\Veg-dataset\\train_set\"  \n",
    "test_path = r\"C:\\Users\\ASUS\\Documents\\python\\IBM_Project\\Dataset Plant Disease\\Veg-dataset\\Veg-dataset\\test_set\"\n",
    "\n",
    "x_train = train_imagen.flow_from_directory(train_path, target_size= (128,128), class_mode= \"categorical\", batch_size= 32)  \n",
    "x_test = test_imagen.flow_from_directory(test_path, target_size= (128,128), class_mode= \"categorical\", batch_size= 32)\n",
    "print(\"Categories with lebel = \", x_train.class_indices)\n",
    "print(\"Length of Train Data = \", len(x_train), \",\" \"Length of Test Data = \", len(x_test))"
   ]
  },
  {
   "cell_type": "markdown",
   "id": "3744ad7c",
   "metadata": {},
   "source": [
    "# Model Building for Vegitable Disease Prediction"
   ]
  },
  {
   "cell_type": "code",
   "execution_count": 4,
   "id": "72f625de",
   "metadata": {},
   "outputs": [],
   "source": [
    "# Import Libraries for Model Training:\n",
    "# Import the libraries that are required to initialize the neural network layer, \n",
    "# and create and add different layers to the neural network model.\n",
    "from keras.models import Sequential\n",
    "from keras.layers import Convolution2D, MaxPool2D, Flatten\n",
    "from keras.layers import Dense, Dropout"
   ]
  },
  {
   "cell_type": "code",
   "execution_count": 5,
   "id": "ca784f82",
   "metadata": {},
   "outputs": [
    {
     "name": "stdout",
     "output_type": "stream",
     "text": [
      "Model: \"sequential\"\n",
      "_________________________________________________________________\n",
      " Layer (type)                Output Shape              Param #   \n",
      "=================================================================\n",
      " conv2d (Conv2D)             (None, 126, 126, 16)      448       \n",
      "                                                                 \n",
      " max_pooling2d (MaxPooling2D  (None, 63, 63, 16)       0         \n",
      " )                                                               \n",
      "                                                                 \n",
      " conv2d_1 (Conv2D)           (None, 61, 61, 32)        4640      \n",
      "                                                                 \n",
      " max_pooling2d_1 (MaxPooling  (None, 30, 30, 32)       0         \n",
      " 2D)                                                             \n",
      "                                                                 \n",
      " conv2d_2 (Conv2D)           (None, 28, 28, 64)        18496     \n",
      "                                                                 \n",
      " max_pooling2d_2 (MaxPooling  (None, 14, 14, 64)       0         \n",
      " 2D)                                                             \n",
      "                                                                 \n",
      " flatten (Flatten)           (None, 12544)             0         \n",
      "                                                                 \n",
      "=================================================================\n",
      "Total params: 23,584\n",
      "Trainable params: 23,584\n",
      "Non-trainable params: 0\n",
      "_________________________________________________________________\n"
     ]
    }
   ],
   "source": [
    "# Model Construction:\n",
    "model = Sequential()\n",
    "\n",
    "model.add(Convolution2D(16, (3,3), input_shape = (128,128,3), activation='relu'))\n",
    "model.add(MaxPool2D(pool_size= (2,2)))\n",
    "model.add(Convolution2D(32, (3,3), input_shape = (128,128,3), activation='relu'))  \n",
    "model.add(MaxPool2D(pool_size= (2,2)))\n",
    "model.add(Convolution2D(64, (3,3), input_shape = (128,128,3), activation='relu'))\n",
    "model.add(MaxPool2D(pool_size= (2,2)))\n",
    "# model.add(Convolution2D(128, (3,3), input_shape = (128,128,3), activation='relu'))\n",
    "\n",
    "model.add(Flatten())\n",
    "\n",
    "model.summary()"
   ]
  },
  {
   "cell_type": "code",
   "execution_count": 6,
   "id": "93e15f98",
   "metadata": {},
   "outputs": [],
   "source": [
    "# Add Dense Layers in Model:\n",
    "\n",
    "model.add(Dense(units=400, kernel_initializer = \"uniform\", activation= \"relu\"))         # 1st Hidden Layer\n",
    "# model.add(Dropout(0.1))\n",
    "model.add(Dense(units=300, kernel_initializer = \"uniform\", activation= \"relu\"))         # 2nd Hidden Layer\n",
    "model.add(Dropout(0.1))\n",
    "model.add(Dense(units=200, kernel_initializer = \"uniform\", activation= \"relu\"))         # 3rd Hidden Layer\n",
    "model.add(Dropout(0.2))\n",
    "model.add(Dense(units=100, kernel_initializer = \"uniform\", activation= \"relu\"))         # 4th Hidden Layer\n",
    "model.add(Dropout(0.5))\n",
    "model.add(Dense(units=9, activation= \"softmax\"))                                        # Output Layer"
   ]
  },
  {
   "cell_type": "code",
   "execution_count": 7,
   "id": "7348f526",
   "metadata": {},
   "outputs": [],
   "source": [
    "# Creating Checkpoint:\n",
    "from keras.callbacks import ModelCheckpoint\n",
    "\n",
    "checkpoint_filepath = r\"C:\\Users\\ASUS\\Documents\\python\\IBM_Project\\checkpoints\"\n",
    "\n",
    "model_checkpoint_callback = ModelCheckpoint(\n",
    "    filepath=checkpoint_filepath,\n",
    "    save_weights_only=True,\n",
    "    monitor='val_loss',\n",
    "    mode='min',\n",
    "    save_best_only=True,\n",
    "    verbose =1)"
   ]
  },
  {
   "cell_type": "code",
   "execution_count": 8,
   "id": "93ab1c6e",
   "metadata": {},
   "outputs": [
    {
     "name": "stdout",
     "output_type": "stream",
     "text": [
      "Epoch 1/30\n",
      "355/355 [==============================] - ETA: 0s - loss: 1.9498 - accuracy: 0.2524\n",
      "Epoch 1: val_loss improved from inf to 1.62067, saving model to C:\\Users\\ASUS\\Documents\\python\\IBM_Project\\checkpoints\n",
      "355/355 [==============================] - 94s 262ms/step - loss: 1.9498 - accuracy: 0.2524 - val_loss: 1.6207 - val_accuracy: 0.3821\n",
      "Epoch 2/30\n",
      "355/355 [==============================] - ETA: 0s - loss: 1.5154 - accuracy: 0.4442\n",
      "Epoch 2: val_loss improved from 1.62067 to 1.22347, saving model to C:\\Users\\ASUS\\Documents\\python\\IBM_Project\\checkpoints\n",
      "355/355 [==============================] - 90s 254ms/step - loss: 1.5154 - accuracy: 0.4442 - val_loss: 1.2235 - val_accuracy: 0.5513\n",
      "Epoch 3/30\n",
      "355/355 [==============================] - ETA: 0s - loss: 1.2450 - accuracy: 0.5627\n",
      "Epoch 3: val_loss improved from 1.22347 to 1.06080, saving model to C:\\Users\\ASUS\\Documents\\python\\IBM_Project\\checkpoints\n",
      "355/355 [==============================] - 86s 242ms/step - loss: 1.2450 - accuracy: 0.5627 - val_loss: 1.0608 - val_accuracy: 0.6002\n",
      "Epoch 4/30\n",
      "355/355 [==============================] - ETA: 0s - loss: 1.0611 - accuracy: 0.6349\n",
      "Epoch 4: val_loss improved from 1.06080 to 0.67995, saving model to C:\\Users\\ASUS\\Documents\\python\\IBM_Project\\checkpoints\n",
      "355/355 [==============================] - 80s 225ms/step - loss: 1.0611 - accuracy: 0.6349 - val_loss: 0.6800 - val_accuracy: 0.7612\n",
      "Epoch 5/30\n",
      "355/355 [==============================] - ETA: 0s - loss: 0.8662 - accuracy: 0.7094\n",
      "Epoch 5: val_loss improved from 0.67995 to 0.64823, saving model to C:\\Users\\ASUS\\Documents\\python\\IBM_Project\\checkpoints\n",
      "355/355 [==============================] - 82s 230ms/step - loss: 0.8662 - accuracy: 0.7094 - val_loss: 0.6482 - val_accuracy: 0.7706\n",
      "Epoch 6/30\n",
      "355/355 [==============================] - ETA: 0s - loss: 0.7369 - accuracy: 0.7540\n",
      "Epoch 6: val_loss improved from 0.64823 to 0.49226, saving model to C:\\Users\\ASUS\\Documents\\python\\IBM_Project\\checkpoints\n",
      "355/355 [==============================] - 86s 243ms/step - loss: 0.7369 - accuracy: 0.7540 - val_loss: 0.4923 - val_accuracy: 0.8308\n",
      "Epoch 7/30\n",
      "355/355 [==============================] - ETA: 0s - loss: 0.6389 - accuracy: 0.7926\n",
      "Epoch 7: val_loss did not improve from 0.49226\n",
      "355/355 [==============================] - 85s 239ms/step - loss: 0.6389 - accuracy: 0.7926 - val_loss: 0.5732 - val_accuracy: 0.8001\n",
      "Epoch 8/30\n",
      "355/355 [==============================] - ETA: 0s - loss: 0.5526 - accuracy: 0.8188\n",
      "Epoch 8: val_loss improved from 0.49226 to 0.37023, saving model to C:\\Users\\ASUS\\Documents\\python\\IBM_Project\\checkpoints\n",
      "355/355 [==============================] - 84s 238ms/step - loss: 0.5526 - accuracy: 0.8188 - val_loss: 0.3702 - val_accuracy: 0.8694\n",
      "Epoch 9/30\n",
      "355/355 [==============================] - ETA: 0s - loss: 0.4952 - accuracy: 0.8424\n",
      "Epoch 9: val_loss improved from 0.37023 to 0.31127, saving model to C:\\Users\\ASUS\\Documents\\python\\IBM_Project\\checkpoints\n",
      "355/355 [==============================] - 85s 240ms/step - loss: 0.4952 - accuracy: 0.8424 - val_loss: 0.3113 - val_accuracy: 0.8894\n",
      "Epoch 10/30\n",
      "355/355 [==============================] - ETA: 0s - loss: 0.4344 - accuracy: 0.8630\n",
      "Epoch 10: val_loss improved from 0.31127 to 0.28609, saving model to C:\\Users\\ASUS\\Documents\\python\\IBM_Project\\checkpoints\n",
      "355/355 [==============================] - 88s 247ms/step - loss: 0.4344 - accuracy: 0.8630 - val_loss: 0.2861 - val_accuracy: 0.8930\n",
      "Epoch 11/30\n",
      "355/355 [==============================] - ETA: 0s - loss: 0.3935 - accuracy: 0.8749\n",
      "Epoch 11: val_loss did not improve from 0.28609\n",
      "355/355 [==============================] - 88s 246ms/step - loss: 0.3935 - accuracy: 0.8749 - val_loss: 0.3236 - val_accuracy: 0.8897\n",
      "Epoch 12/30\n",
      "355/355 [==============================] - ETA: 0s - loss: 0.3786 - accuracy: 0.8808\n",
      "Epoch 12: val_loss did not improve from 0.28609\n",
      "355/355 [==============================] - 84s 238ms/step - loss: 0.3786 - accuracy: 0.8808 - val_loss: 0.2885 - val_accuracy: 0.8977\n",
      "Epoch 13/30\n",
      "355/355 [==============================] - ETA: 0s - loss: 0.3410 - accuracy: 0.8888\n",
      "Epoch 13: val_loss improved from 0.28609 to 0.23364, saving model to C:\\Users\\ASUS\\Documents\\python\\IBM_Project\\checkpoints\n",
      "355/355 [==============================] - 85s 239ms/step - loss: 0.3410 - accuracy: 0.8888 - val_loss: 0.2336 - val_accuracy: 0.9213\n",
      "Epoch 14/30\n",
      "355/355 [==============================] - ETA: 0s - loss: 0.3189 - accuracy: 0.9003\n",
      "Epoch 14: val_loss improved from 0.23364 to 0.12968, saving model to C:\\Users\\ASUS\\Documents\\python\\IBM_Project\\checkpoints\n",
      "355/355 [==============================] - 85s 241ms/step - loss: 0.3189 - accuracy: 0.9003 - val_loss: 0.1297 - val_accuracy: 0.9537\n",
      "Epoch 15/30\n",
      "355/355 [==============================] - ETA: 0s - loss: 0.2987 - accuracy: 0.9037\n",
      "Epoch 15: val_loss did not improve from 0.12968\n",
      "355/355 [==============================] - 85s 239ms/step - loss: 0.2987 - accuracy: 0.9037 - val_loss: 0.2324 - val_accuracy: 0.9298\n",
      "Epoch 16/30\n",
      "355/355 [==============================] - ETA: 0s - loss: 0.2884 - accuracy: 0.9084\n",
      "Epoch 16: val_loss improved from 0.12968 to 0.11152, saving model to C:\\Users\\ASUS\\Documents\\python\\IBM_Project\\checkpoints\n",
      "355/355 [==============================] - 84s 236ms/step - loss: 0.2884 - accuracy: 0.9084 - val_loss: 0.1115 - val_accuracy: 0.9655\n",
      "Epoch 17/30\n",
      "355/355 [==============================] - ETA: 0s - loss: 0.2685 - accuracy: 0.9158\n",
      "Epoch 17: val_loss did not improve from 0.11152\n",
      "355/355 [==============================] - 83s 235ms/step - loss: 0.2685 - accuracy: 0.9158 - val_loss: 0.1198 - val_accuracy: 0.9631\n",
      "Epoch 18/30\n",
      "355/355 [==============================] - ETA: 0s - loss: 0.2594 - accuracy: 0.9198\n",
      "Epoch 18: val_loss did not improve from 0.11152\n",
      "355/355 [==============================] - 84s 237ms/step - loss: 0.2594 - accuracy: 0.9198 - val_loss: 0.5565 - val_accuracy: 0.8443\n",
      "Epoch 19/30\n",
      "355/355 [==============================] - ETA: 0s - loss: 0.2581 - accuracy: 0.9184\n",
      "Epoch 19: val_loss did not improve from 0.11152\n",
      "355/355 [==============================] - 83s 234ms/step - loss: 0.2581 - accuracy: 0.9184 - val_loss: 0.1709 - val_accuracy: 0.9443\n",
      "Epoch 20/30\n",
      "355/355 [==============================] - ETA: 0s - loss: 0.2243 - accuracy: 0.9279\n",
      "Epoch 20: val_loss improved from 0.11152 to 0.10128, saving model to C:\\Users\\ASUS\\Documents\\python\\IBM_Project\\checkpoints\n",
      "355/355 [==============================] - 84s 238ms/step - loss: 0.2243 - accuracy: 0.9279 - val_loss: 0.1013 - val_accuracy: 0.9711\n",
      "Epoch 21/30\n",
      "355/355 [==============================] - ETA: 0s - loss: 0.2462 - accuracy: 0.9277\n",
      "Epoch 21: val_loss did not improve from 0.10128\n",
      "355/355 [==============================] - 87s 244ms/step - loss: 0.2462 - accuracy: 0.9277 - val_loss: 0.1166 - val_accuracy: 0.9575\n",
      "Epoch 22/30\n",
      "355/355 [==============================] - ETA: 0s - loss: 0.2246 - accuracy: 0.9295\n",
      "Epoch 22: val_loss did not improve from 0.10128\n",
      "355/355 [==============================] - 86s 241ms/step - loss: 0.2246 - accuracy: 0.9295 - val_loss: 0.1563 - val_accuracy: 0.9487\n",
      "Epoch 23/30\n",
      "355/355 [==============================] - ETA: 0s - loss: 0.2022 - accuracy: 0.9363\n",
      "Epoch 23: val_loss did not improve from 0.10128\n",
      "355/355 [==============================] - 84s 237ms/step - loss: 0.2022 - accuracy: 0.9363 - val_loss: 0.1041 - val_accuracy: 0.9602\n",
      "Epoch 24/30\n",
      "355/355 [==============================] - ETA: 0s - loss: 0.2000 - accuracy: 0.9371\n",
      "Epoch 24: val_loss did not improve from 0.10128\n",
      "355/355 [==============================] - 85s 239ms/step - loss: 0.2000 - accuracy: 0.9371 - val_loss: 0.1418 - val_accuracy: 0.9499\n",
      "Epoch 25/30\n",
      "355/355 [==============================] - ETA: 0s - loss: 0.2020 - accuracy: 0.9378\n",
      "Epoch 25: val_loss improved from 0.10128 to 0.08391, saving model to C:\\Users\\ASUS\\Documents\\python\\IBM_Project\\checkpoints\n",
      "355/355 [==============================] - 85s 240ms/step - loss: 0.2020 - accuracy: 0.9378 - val_loss: 0.0839 - val_accuracy: 0.9723\n",
      "Epoch 26/30\n",
      "355/355 [==============================] - ETA: 0s - loss: 0.2055 - accuracy: 0.9386\n",
      "Epoch 26: val_loss did not improve from 0.08391\n",
      "355/355 [==============================] - 84s 237ms/step - loss: 0.2055 - accuracy: 0.9386 - val_loss: 0.1621 - val_accuracy: 0.9475\n"
     ]
    },
    {
     "name": "stdout",
     "output_type": "stream",
     "text": [
      "Epoch 27/30\n",
      "355/355 [==============================] - ETA: 0s - loss: 0.2020 - accuracy: 0.9389\n",
      "Epoch 27: val_loss did not improve from 0.08391\n",
      "355/355 [==============================] - 82s 230ms/step - loss: 0.2020 - accuracy: 0.9389 - val_loss: 0.0884 - val_accuracy: 0.9685\n",
      "Epoch 28/30\n",
      "355/355 [==============================] - ETA: 0s - loss: 0.1880 - accuracy: 0.9409\n",
      "Epoch 28: val_loss did not improve from 0.08391\n",
      "355/355 [==============================] - 84s 237ms/step - loss: 0.1880 - accuracy: 0.9409 - val_loss: 0.1593 - val_accuracy: 0.9425\n",
      "Epoch 29/30\n",
      "355/355 [==============================] - ETA: 0s - loss: 0.1739 - accuracy: 0.9469\n",
      "Epoch 29: val_loss improved from 0.08391 to 0.05782, saving model to C:\\Users\\ASUS\\Documents\\python\\IBM_Project\\checkpoints\n",
      "355/355 [==============================] - 85s 238ms/step - loss: 0.1739 - accuracy: 0.9469 - val_loss: 0.0578 - val_accuracy: 0.9791\n",
      "Epoch 30/30\n",
      "355/355 [==============================] - ETA: 0s - loss: 0.1805 - accuracy: 0.9461\n",
      "Epoch 30: val_loss did not improve from 0.05782\n",
      "355/355 [==============================] - 84s 236ms/step - loss: 0.1805 - accuracy: 0.9461 - val_loss: 0.1793 - val_accuracy: 0.9399\n"
     ]
    }
   ],
   "source": [
    "# Model Compilation & Training:\n",
    "model.compile(optimizer= \"adam\", loss= \"categorical_crossentropy\", metrics= ['accuracy'])\n",
    "\n",
    "history = model.fit(x_train, steps_per_epoch= len(x_train)-1, \n",
    "                    validation_data= x_test, validation_steps= len(x_test)-1, \n",
    "                    callbacks=[model_checkpoint_callback], epochs = 30);"
   ]
  },
  {
   "cell_type": "code",
   "execution_count": 10,
   "id": "9dbcc33c",
   "metadata": {},
   "outputs": [
    {
     "data": {
      "text/plain": [
       "<tensorflow.python.training.tracking.util.CheckpointLoadStatus at 0x1cb8ca4c910>"
      ]
     },
     "execution_count": 10,
     "metadata": {},
     "output_type": "execute_result"
    }
   ],
   "source": [
    "# The model weights (that are considered the best) are loaded into the model.\n",
    "model.load_weights(checkpoint_filepath)"
   ]
  },
  {
   "cell_type": "code",
   "execution_count": 11,
   "id": "21afa10f",
   "metadata": {},
   "outputs": [],
   "source": [
    "# Saving Model\n",
    "model.save(\"vegitable.h5\")"
   ]
  },
  {
   "cell_type": "code",
   "execution_count": 9,
   "id": "8cee64e0",
   "metadata": {},
   "outputs": [
    {
     "data": {
      "text/plain": [
       "[<matplotlib.lines.Line2D at 0x1cb95acbc10>,\n",
       " <matplotlib.lines.Line2D at 0x1cb95acbc40>]"
      ]
     },
     "execution_count": 9,
     "metadata": {},
     "output_type": "execute_result"
    },
    {
     "data": {
      "image/png": "[encoded data removed]",
      "text/plain": [
       "<Figure size 432x288 with 1 Axes>"
      ]
     },
     "metadata": {
      "needs_background": "light"
     },
     "output_type": "display_data"
    }
   ],
   "source": [
    "# Visualization of Training and Validation Losses\n",
    "import matplotlib.pyplot as plt\n",
    "train_loss = history.history[\"loss\"]\n",
    "val_loss = history.history[\"val_loss\"]\n",
    "train_acc = history.history[\"val_accuracy\"]\n",
    "val_acc = history.history[\"val_accuracy\"]\n",
    "plt.plot(range(30), train_loss, 'k', range(30), val_loss, 'b')\n",
    "#plt.plot(range(30), train_acc, range(30), val_acc)"
   ]
  },
  {
   "cell_type": "markdown",
   "id": "2ae7c043",
   "metadata": {},
   "source": [
    "# Testing of Model:"
   ]
  },
  {
   "cell_type": "code",
   "execution_count": 12,
   "id": "8cd7e556",
   "metadata": {},
   "outputs": [],
   "source": [
    "# Import Libraries for Model Testing:\n",
    "from keras.models import load_model\n",
    "from keras.preprocessing.image import image_utils\n",
    "import numpy as np"
   ]
  },
  {
   "cell_type": "code",
   "execution_count": 13,
   "id": "23265df1",
   "metadata": {},
   "outputs": [],
   "source": [
    "# Load Model:\n",
    "model = load_model(\"vegetable.h5\")"
   ]
  },
  {
   "cell_type": "code",
   "execution_count": 17,
   "id": "a6c08f08",
   "metadata": {},
   "outputs": [],
   "source": [
    "# Test Image Path:\n",
    "testimg_folder_basic = r\"C:\\Users\\ASUS\\Documents\\python\\IBM_Project\\Dataset Plant Disease\\Veg-dataset\\Veg-dataset\\test_set\"\n",
    "\n",
    "testimg_folder_sub = \"\\Tomato___Late_blight\"     \n",
    "testimg = \"\\\\b8b5b34a-6856-4c79-9681-047c1aa47ae0___RS_Late.B 6222.jpg\"\n",
    "testimg_path = testimg_folder_basic + testimg_folder_sub  + testimg\n",
    "\n",
    "# Categories:\n",
    "categories =  ['Pepper: Bacterial Leaft Spots', 'Pepper: Healthy',\n",
    "              'Potato: Early Blight', 'Potato: Healthy', 'Potato: Late Blight',\n",
    "              'Tomato: Bacterial Spots', 'Tomato: Late Blight', 'Tomato: Leaf Molds', 'Tomato: Septoria Leaf Spot']"
   ]
  },
  {
   "cell_type": "code",
   "execution_count": 18,
   "id": "fa60c722",
   "metadata": {},
   "outputs": [],
   "source": [
    "# Load Test Image:\n",
    "test_img = image_utils.load_img(testimg_path ,target_size = (128,128))\n",
    "\n",
    "# Convert image to array:\n",
    "test_img = image_utils.img_to_array(test_img)\n",
    "\n",
    "# Expand Dimention \n",
    "test_img = np.expand_dims(test_img, axis = 0)"
   ]
  },
  {
   "cell_type": "code",
   "execution_count": 19,
   "id": "e756b80a",
   "metadata": {},
   "outputs": [
    {
     "name": "stdout",
     "output_type": "stream",
     "text": [
      "1/1 [==============================] - 0s 17ms/step\n",
      "\n",
      "Image category =  Tomato: Late Blight\n"
     ]
    }
   ],
   "source": [
    "# Final Prediction:\n",
    "prediction = model.predict(test_img)\n",
    "\n",
    "print(\"\")\n",
    "print(\"Image category = \", categories[np.argmax(prediction)])"
   ]
  }
 ],
 "metadata": {
  "kernelspec": {
   "display_name": "Python 3 (ipykernel)",
   "language": "python",
   "name": "python3"
  },
  "language_info": {
   "codemirror_mode": {
    "name": "ipython",
    "version": 3
   },
   "file_extension": ".py",
   "mimetype": "text/x-python",
   "name": "python",
   "nbconvert_exporter": "python",
   "pygments_lexer": "ipython3",
   "version": "3.9.12"
  }
 },
 "nbformat": 4,
 "nbformat_minor": 5
}
